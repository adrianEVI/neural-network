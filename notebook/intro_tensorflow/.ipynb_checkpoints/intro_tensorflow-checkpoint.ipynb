{
 "cells": [
  {
   "cell_type": "markdown",
   "metadata": {},
   "source": [
    "<img src=\"imagenes/rn3.png\" width=\"200\">\n",
    "<img src=\"http://www.identidadbuho.uson.mx/assets/letragrama-rgb-150.jpg\" width=\"200\">"
   ]
  },
  {
   "cell_type": "markdown",
   "metadata": {},
   "source": [
    "\n",
    "# [Curso de Redes Neuronales](https://curso-redes-neuronales-unison.github.io/Temario/)\n",
    "\n",
    "# Operaciones básicas en TensorFlow\n",
    "\n",
    "[**Julio Waissman Vilanova**](http://mat.uson.mx/~juliowaissman/), 27 de septiembre de 2017.\n",
    "\n",
    "\n",
    "\n",
    "TensorFlow es un sistema de programación para representar calculos como grafos. Los nodos en el grafo son llamados *ops* (por operaciones). Una op toma de cero a muchos tensores, realiza algunos cálculos y produce cero o muchos tensores. Un tensor es un arreglo multidimensional con tipo fijo.\n",
    "\n",
    "Así, un grafo de TensorFlow no es más que una descripción de cálculos. El grafo que describe los calculos se realiza en una fase llamada de *construcción del grafo*. Pero para calcular cualquier cosa, es necesario ejecutar el grafo en una *Session*. Una Session coloca las ops del grafo en los *Devices* (como CPUs, GPUs), y provée métodos para ejecutarlos. Los métodos devuelven los tensores producidos por las ops como un `ndarray` de *numpy* en *Python* (o como un objeto de la clase `tensorflow::Tensor` en *C++*).  \n",
    "\n",
    "Para una revisión completa de tensorflow, recomiendo tener como referencia genera la página del [white paper on TensorFlow](https://github.com/samjabrahams/tensorflow-white-paper-notes), la cual contiene una explicación muy completa sobre la forma en que opera TensorFlow.\n",
    "\n",
    "Para una serie de ejemplos y proyectos realizados en TensorFlow, se puede revisar el proyecto de *GitHub* llamado [Awesome TensorFlow](https://github.com/jtoy/awesome-tensorflow).\n",
    "\n",
    "\n",
    "## Anatomia de un grafo extremadamente simple\n"
   ]
  },
  {
   "cell_type": "code",
   "execution_count": 1,
   "metadata": {},
   "outputs": [],
   "source": [
    "import tensorflow as tf"
   ]
  },
  {
   "cell_type": "markdown",
   "metadata": {},
   "source": [
    "Tensoflow tiene un grafo por default en el cual las ops generadas se agregan como nodos. Este grafo por default es suficiente para la mayoría de las aplicaciones y no esperamos utilizar otro. \n",
    "\n",
    "Lo que sigue no es necesario realizarlo, solo lo haremos con el fin de explorar como funciona TensorFlow:\n"
   ]
  },
  {
   "cell_type": "code",
   "execution_count": 2,
   "metadata": {},
   "outputs": [
    {
     "data": {
      "text/plain": [
       "[]"
      ]
     },
     "execution_count": 2,
     "metadata": {},
     "output_type": "execute_result"
    }
   ],
   "source": [
    "graph = tf.get_default_graph()\n",
    "graph.get_operations()"
   ]
  },
  {
   "cell_type": "markdown",
   "metadata": {},
   "source": [
    "Como vemos, en el grafo por default no se encuentra ningun nodo todavía. Vamos a agregar el nodo más sencillo posible: Una constante escalar."
   ]
  },
  {
   "cell_type": "code",
   "execution_count": 3,
   "metadata": {},
   "outputs": [],
   "source": [
    "entrada = tf.constant(1.0)"
   ]
  },
  {
   "cell_type": "markdown",
   "metadata": {},
   "source": [
    "Y ahora vamos a ver que se agregó en el grafo"
   ]
  },
  {
   "cell_type": "code",
   "execution_count": 4,
   "metadata": {},
   "outputs": [
    {
     "name": "stdout",
     "output_type": "stream",
     "text": [
      "Operaciones en el grafo por default de Tensorflow:\n",
      "[<tf.Operation 'Const' type=Const>]\n",
      "Definición de la primer operación\n",
      "name: \"Const\"\n",
      "op: \"Const\"\n",
      "attr {\n",
      "  key: \"dtype\"\n",
      "  value {\n",
      "    type: DT_FLOAT\n",
      "  }\n",
      "}\n",
      "attr {\n",
      "  key: \"value\"\n",
      "  value {\n",
      "    tensor {\n",
      "      dtype: DT_FLOAT\n",
      "      tensor_shape {\n",
      "      }\n",
      "      float_val: 1.0\n",
      "    }\n",
      "  }\n",
      "}\n",
      "\n"
     ]
    }
   ],
   "source": [
    "ops = graph.get_operations()\n",
    "print(\"Operaciones en el grafo por default de Tensorflow:\")\n",
    "print(ops)\n",
    "print(\"Definición de la primer operación\")\n",
    "print(ops[0].node_def)"
   ]
  },
  {
   "cell_type": "markdown",
   "metadata": {},
   "source": [
    "TensorFlow utiliza un protocol interno basado en JSON. ¿Porqué hacer una versión propia de\n",
    "la definición de cada cosa y no usar la que existe en *Python*? ¿Porqué no usar las variables que provée *Python* o *Numpy*?\n",
    "\n",
    "\n",
    "> To do efficient numerical computing in Python, we typically use libraries like NumPy that do expensive operations such as matrix multiplication outside Python, using highly efficient code implemented in another language. Unfortunately, there can still be a lot of overhead from switching back to Python every operation. This overhead is especially bad if you want to run computations on GPUs or in a distributed manner, where there can be a high cost to transferring data.\n",
    "\n",
    "> TensorFlow also does its heavy lifting outside Python, but it takes things a step further to avoid this overhead. Instead of running a single expensive operation independently from Python, TensorFlow lets us describe a graph of interacting operations that run entirely outside Python. This approach is similar to that used in Theano or Torch.\n",
    "\n",
    "Tensorflow no hace nada que no le indiques explicitamente, así sea asignar una constante. Más aun:"
   ]
  },
  {
   "cell_type": "code",
   "execution_count": 5,
   "metadata": {},
   "outputs": [
    {
     "data": {
      "text/plain": [
       "<tf.Tensor 'Const:0' shape=() dtype=float32>"
      ]
     },
     "execution_count": 5,
     "metadata": {},
     "output_type": "execute_result"
    }
   ],
   "source": [
    "entrada"
   ]
  },
  {
   "cell_type": "markdown",
   "metadata": {},
   "source": [
    "Podemos ver la definición y el tipo, pero no sabemos el valor. Para esto hay que ejecutar una Session."
   ]
  },
  {
   "cell_type": "code",
   "execution_count": 6,
   "metadata": {},
   "outputs": [
    {
     "name": "stdout",
     "output_type": "stream",
     "text": [
      "1.0\n"
     ]
    }
   ],
   "source": [
    "sess = tf.Session()\n",
    "print(sess.run(entrada))\n",
    "sess.close()"
   ]
  },
  {
   "cell_type": "markdown",
   "metadata": {},
   "source": [
    "Al principio puede resultar cansado, ... y con el tiempo sigue siendo cansado, pero tiene su razón de ser cuando se trabaja con grandes volumenes de datos o grandes volumenes de operaciones.\n",
    "\n",
    "Ahora agreguemos una variable y veamos que pasa en el grafo."
   ]
  },
  {
   "cell_type": "code",
   "execution_count": 8,
   "metadata": {},
   "outputs": [
    {
     "name": "stdout",
     "output_type": "stream",
     "text": [
      "Operaciones en el grafo:\n",
      "Const\n",
      "init\n",
      "Variable/initial_value\n",
      "Variable\n",
      "Variable/Assign\n",
      "Variable/read\n",
      "name: \"Variable/read\"\n",
      "op: \"Identity\"\n",
      "input: \"Variable\"\n",
      "attr {\n",
      "  key: \"T\"\n",
      "  value {\n",
      "    type: DT_FLOAT\n",
      "  }\n",
      "}\n",
      "attr {\n",
      "  key: \"_class\"\n",
      "  value {\n",
      "    list {\n",
      "      s: \"loc:@Variable\"\n",
      "    }\n",
      "  }\n",
      "}\n",
      "\n"
     ]
    }
   ],
   "source": [
    "x = tf.Variable(0.8)\n",
    "\n",
    "print(\"Operaciones en el grafo:\")\n",
    "for op in graph.get_operations(): \n",
    "    print(op.name)\n",
    "print(op.node_def)"
   ]
  },
  {
   "cell_type": "markdown",
   "metadata": {},
   "source": [
    "¡Una variable agrega 4 operaciones al grafo, no solo una!\n",
    "\n",
    "Vamos ahora a agregar una operacion entre la constante y la variable."
   ]
  },
  {
   "cell_type": "code",
   "execution_count": 9,
   "metadata": {},
   "outputs": [
    {
     "name": "stdout",
     "output_type": "stream",
     "text": [
      "Operaciones en el grafo:\n",
      "Const\n",
      "init\n",
      "Variable/initial_value\n",
      "Variable\n",
      "Variable/Assign\n",
      "Variable/read\n",
      "Mul\n",
      "\n",
      "Entradas para la multiplicación\n",
      "Tensor(\"Const:0\", shape=(), dtype=float32)\n",
      "Tensor(\"Variable/read:0\", shape=(), dtype=float32)\n"
     ]
    }
   ],
   "source": [
    "y = tf.multiply(entrada, x)\n",
    "\n",
    "print(\"Operaciones en el grafo:\")\n",
    "for op in graph.get_operations(): \n",
    "    print(op.name) \n",
    "\n",
    "print(\"\\nEntradas para la multiplicación\")\n",
    "for op_input in op.inputs: \n",
    "    print(op_input)\n",
    "    "
   ]
  },
  {
   "cell_type": "markdown",
   "metadata": {},
   "source": [
    "Y como vemos, la multiplicación reconoce cuales ops hay que realizar para poder calcular a su vez esta op. Por supuesto que revisar un grafo de esta manera solo es posible si es así de sencillo, y para eso no requeriríamos usar TensorFlow. Más adelante lo veremos.\n",
    "\n",
    "Para calcular esto necesitamos asegurar que las variables se encuentran correctamente inicializadas (en este caso es solo una, pero podría haber muchas). Por esto, antes de ejecutar la Session, es necesario inicializar *todas* las variables."
   ]
  },
  {
   "cell_type": "code",
   "execution_count": 10,
   "metadata": {},
   "outputs": [
    {
     "name": "stdout",
     "output_type": "stream",
     "text": [
      "0.8\n"
     ]
    }
   ],
   "source": [
    "sess = tf.Session()\n",
    "init = tf.global_variables_initializer()\n",
    "sess.run(init)\n",
    "\n",
    "print(sess.run(y))\n",
    "\n",
    "sess.close()"
   ]
  },
  {
   "cell_type": "markdown",
   "metadata": {},
   "source": [
    "Lo que es, de acuerdo a una multiplicacion de flotantes de 32 bits el resultado de 1.0 * 8.0. Una sesión debe siempre de cerrarse para liberar los recursos.\n",
    "\n",
    "Ahora, si construimos un grafo y queremos estar seguros que lo que hicimos es lo que queremos, es conveniente poder observar el grafo de mejor manera. Para eso vamos a utilizar *TensorBoard*. \n",
    "\n",
    "Reiniciemos el grafo de mejor manera."
   ]
  },
  {
   "cell_type": "code",
   "execution_count": 11,
   "metadata": {},
   "outputs": [],
   "source": [
    "tf.reset_default_graph()\n",
    "sess = tf.Session()\n",
    "\n",
    "x = tf.constant(1.0, name='entrada')\n",
    "w = tf.Variable(0.8, name='peso')\n",
    "y = tf.multiply(w, x, name='salida')\n"
   ]
  },
  {
   "cell_type": "markdown",
   "metadata": {},
   "source": [
    "Y ahora guardemos este grafo en un conjunto de archivos dentro del directorio `ejemplo_simple` (si el directorio no existe, lo crea el comando)."
   ]
  },
  {
   "cell_type": "code",
   "execution_count": 12,
   "metadata": {},
   "outputs": [],
   "source": [
    "summary_writer = tf.summary.FileWriter('ejemplo_simple', sess.graph)\n",
    "sess.close()"
   ]
  },
  {
   "cell_type": "markdown",
   "metadata": {},
   "source": [
    "El grafo lo podemos visualizar ejecutando en la terminal\n",
    "\n",
    "```\n",
    "tensorboard --logdir=ejemplo_simple\n",
    "```\n",
    "\n",
    "Y buscarlo en el navegador web en la dirección `localhost:6006`."
   ]
  },
  {
   "cell_type": "code",
   "execution_count": null,
   "metadata": {
    "scrolled": true
   },
   "outputs": [],
   "source": [
    "! tensorboard --logdir=ejemplo_simple"
   ]
  },
  {
   "attachments": {
    "graph_large_attrs_key=_too_large_attrs&limit_attr_size=1024&run=.png": {
     "image/png": "[encoded data removed]"
    }
   },
   "cell_type": "markdown",
   "metadata": {},
   "source": [
    "### Ejercicio: Explica que pasa aqui.\n",
    "![graph_large_attrs_key=_too_large_attrs&limit_attr_size=1024&run=.png](attachment:graph_large_attrs_key=_too_large_attrs&limit_attr_size=1024&run=.png)"
   ]
  },
  {
   "cell_type": "markdown",
   "metadata": {},
   "source": [
    "## Construcción de un grafo más elaborado"
   ]
  },
  {
   "cell_type": "code",
   "execution_count": 13,
   "metadata": {},
   "outputs": [],
   "source": [
    "tf.reset_default_graph()\n",
    "\n",
    "# Create a Constant op that produces a 1x2 matrix.  The op is\n",
    "# added as a node to the default graph.\n",
    "#\n",
    "# The value returned by the constructor represents the output\n",
    "# of the Constant op.\n",
    "matrix1 = tf.constant([[3., 3.]])\n",
    "\n",
    "# Create another Constant that produces a 2x1 matrix.\n",
    "matrix2 = tf.constant([[2.],[2.]])\n",
    "\n",
    "# Create a Matmul op that takes 'matrix1' and 'matrix2' as inputs.\n",
    "# The returned value, 'product', represents the result of the matrix\n",
    "# multiplication.\n",
    "product1 = tf.matmul(matrix1, matrix2)\n",
    "product2 = tf.matmul(matrix2, matrix1)\n"
   ]
  },
  {
   "cell_type": "markdown",
   "metadata": {},
   "source": [
    "## Ejecutando la sesion"
   ]
  },
  {
   "cell_type": "code",
   "execution_count": 14,
   "metadata": {},
   "outputs": [
    {
     "name": "stdout",
     "output_type": "stream",
     "text": [
      "product1 =  \n",
      "[[12.]]\n",
      "product2 = \n",
      "[[6. 6.]\n",
      " [6. 6.]]\n"
     ]
    }
   ],
   "source": [
    "with tf.Session() as sess:\n",
    "    # To run the matmul op we call the session 'run()' method, passing 'product'\n",
    "    # which represents the output of the matmul op.  This indicates to the call\n",
    "    # that we want to get the output of the matmul op back.\n",
    "    #\n",
    "    # All inputs needed by the op are run automatically by the session.  They\n",
    "    # typically are run in parallel.\n",
    "    result = sess.run([product1, product2])\n",
    "    print(\"product1 =  \\n{}\".format(result[0]))\n",
    "    print(\"product2 = \\n{}\".format(result[1]))"
   ]
  },
  {
   "cell_type": "markdown",
   "metadata": {},
   "source": [
    "## Uso interactivo\n",
    "\n",
    "Con el fin de utilizar Tensorflow dentro de un entorno ipython con el fin de realizar prototipos, el modulo viene con clases que pueden ser utilizadas dentro del REPL."
   ]
  },
  {
   "cell_type": "code",
   "execution_count": 15,
   "metadata": {},
   "outputs": [
    {
     "name": "stdout",
     "output_type": "stream",
     "text": [
      "[-2. -1.]\n"
     ]
    }
   ],
   "source": [
    "# Enter an interactive TensorFlow Session.\n",
    "sess = tf.InteractiveSession()\n",
    "\n",
    "x = tf.Variable([1.0, 2.0])\n",
    "a = tf.constant([3.0, 3.0])\n",
    "\n",
    "# Initialize 'x' using the run() method of its initializer op.\n",
    "x.initializer.run()\n",
    "\n",
    "# Add an op to subtract 'a' from 'x'.  Run it and print the result\n",
    "sub = tf.subtract(x, a)\n",
    "print(sub.eval())\n",
    "# ==> [-2. -1.]\n",
    "\n",
    "# Close the Session when we're done.\n",
    "sess.close()"
   ]
  },
  {
   "cell_type": "markdown",
   "metadata": {},
   "source": [
    "## Manejo de variables y su actualización\n",
    "\n",
    "Las variables mantienen su valor durante la ejecución, y únicamente cambian su valor a través de ops bien establecidas, cuyo fin es modificar el valor de las variables. La ops más directa es `assign` que se usa como se muestra a continuación."
   ]
  },
  {
   "cell_type": "code",
   "execution_count": 16,
   "metadata": {},
   "outputs": [
    {
     "name": "stdout",
     "output_type": "stream",
     "text": [
      "0\n",
      "1\n",
      "2\n",
      "3\n",
      "4\n",
      "5\n"
     ]
    }
   ],
   "source": [
    "# Create a Variable, that will be initialized to the scalar value 0.\n",
    "state = tf.Variable(0, name=\"counter\")\n",
    "\n",
    "# Create an Op to add one to `state`.\n",
    "\n",
    "one = tf.constant(1)\n",
    "new_value = tf.add(state, one)\n",
    "update = tf.assign(state, new_value)\n",
    "\n",
    "# Variables must be initialized by running an `init` Op after having\n",
    "# launched the graph.  We first have to add the `init` Op to the graph.\n",
    "init_op = tf.global_variables_initializer()\n",
    "\n",
    "# Launch the graph and run the ops.\n",
    "with tf.Session() as sess:\n",
    "  # Run the 'init' op\n",
    "  sess.run(init_op)\n",
    "  # Print the initial value of 'state'\n",
    "  print(sess.run(state))\n",
    "  # Run the op that updates 'state' and print 'state'.\n",
    "  for _ in range(5):\n",
    "    sess.run(update)\n",
    "    print(sess.run(state))\n"
   ]
  },
  {
   "cell_type": "markdown",
   "metadata": {},
   "source": [
    "## Alimentación (Feeds)\n",
    "\n",
    "Hasta ahorita, en los ejemplos no utilizamos datos para las entradas, solamente valores constantes. \n",
    "TensorFlow permite (por supuesto) el uso de valores de entrada que modifican un tensor directamente en el grafo de operaciones. \n",
    "\n",
    "Una alimentación (feed) reemplaza temporalmente la salida de una operación con el valor de un tensor. Por cada llamada a `run()` los datos se envían como argumento al grafo. La alimentación es usada *únicamente* en dicha llamada. La forma típica de agregar feeds a un grafo, es utilizando las operaciones asociadas a `tf.placeholder()` como se muestra en el ejemplo:\n"
   ]
  },
  {
   "cell_type": "code",
   "execution_count": 18,
   "metadata": {},
   "outputs": [
    {
     "name": "stdout",
     "output_type": "stream",
     "text": [
      "[array([[14., 56.],\n",
      "       [ 2., 28.]], dtype=float32)]\n"
     ]
    }
   ],
   "source": [
    "input1 = tf.placeholder(tf.float32)\n",
    "input2 = tf.placeholder(tf.float32)\n",
    "output = tf.multiply(input1, input2)\n",
    "\n",
    "with tf.Session() as sess:\n",
    "  print(sess.run([output], feed_dict={input1:[[7., 8.0],[1., 4.]], input2:[2., 7.0]}))\n"
   ]
  },
  {
   "cell_type": "markdown",
   "metadata": {},
   "source": [
    "Si no se alimenta con datos un feed en una ejecución, TensorFlow genera un error."
   ]
  }
 ],
 "metadata": {
  "kernelspec": {
   "display_name": "Python 3",
   "language": "python",
   "name": "python3"
  },
  "language_info": {
   "codemirror_mode": {
    "name": "ipython",
    "version": 3
   },
   "file_extension": ".py",
   "mimetype": "text/x-python",
   "name": "python",
   "nbconvert_exporter": "python",
   "pygments_lexer": "ipython3",
   "version": "3.6.6"
  }
 },
 "nbformat": 4,
 "nbformat_minor": 2
}
